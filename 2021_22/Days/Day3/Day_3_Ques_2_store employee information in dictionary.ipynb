{
 "cells": [
  {
   "cell_type": "markdown",
   "metadata": {},
   "source": [
    "##### 2.Write a code to store employee information in dictionary(Only one employee details)\n",
    "Take input from user\n",
    "Properties: Name,Age,Gender,Place,Salary,Previous_company"
   ]
  },
  {
   "cell_type": "raw",
   "metadata": {},
   "source": [
    "2.Write a code to store employee information in dictionary(Only one employee details)\n",
    "Take input from user\n",
    "Properties: Name,Age,Gender,Place,Salary,Previous_company"
   ]
  },
  {
   "cell_type": "code",
   "execution_count": 2,
   "metadata": {},
   "outputs": [
    {
     "name": "stdout",
     "output_type": "stream",
     "text": [
      "storing and retriving employee information\n",
      "Enter employee name : shweta\n",
      "Enter age : 26\n",
      "Enter the gender of employee : female\n",
      "Enter the place : ayodhya\n",
      "Enter salary :30000\n",
      "Enter previous company name : recabn\n",
      "showing employee information:\n",
      "{'name': 'shweta', 'age': 26, 'gender': 'female', 'place': 'ayodhya', 'salary': 30000, 'previous_company': 'recabn'}\n"
     ]
    }
   ],
   "source": [
    "print('storing and retriving employee information')\n",
    "emp={}\n",
    "emp['name'] = input('Enter employee name : ')\n",
    "emp['age'] = int(input('Enter age : '))\n",
    "emp['gender'] = input('Enter the gender of employee : ')\n",
    "emp['place'] = input('Enter the place : ')\n",
    "emp['salary'] = int(input('Enter salary :'))\n",
    "emp['previous_company'] = input('Enter previous company name : ')\n",
    "\n",
    "print('showing employee information:')\n",
    "print(emp)"
   ]
  },
  {
   "cell_type": "code",
   "execution_count": null,
   "metadata": {},
   "outputs": [],
   "source": []
  }
 ],
 "metadata": {
  "kernelspec": {
   "display_name": "Python 3",
   "language": "python",
   "name": "python3"
  },
  "language_info": {
   "codemirror_mode": {
    "name": "ipython",
    "version": 3
   },
   "file_extension": ".py",
   "mimetype": "text/x-python",
   "name": "python",
   "nbconvert_exporter": "python",
   "pygments_lexer": "ipython3",
   "version": "3.8.5"
  }
 },
 "nbformat": 4,
 "nbformat_minor": 4
}
