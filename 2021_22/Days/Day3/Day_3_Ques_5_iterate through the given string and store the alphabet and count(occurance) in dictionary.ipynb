{
 "cells": [
  {
   "cell_type": "markdown",
   "metadata": {},
   "source": [
    "##### 5.Write a code to iterate through the given string and store the alphabet and count(occurance) in dictionary\n",
    "-{A:2,a:1, s:10, d:20 ,f:30}\n",
    "\"A computer is a machine that can be programmed to carry out sequences of\n",
    " arithmetic or logical operations automatically. Modern computers can perform\n",
    " generic sets of operations known as programs. These programs enable computers\n",
    " to perform a wide range of tasks. A computer system is a complete computer\n",
    " that includes the hardware operating system main software  and peripheral\n",
    " equipment needed and used for full operation. This term may also refer \n",
    "to a group of computers that are linked and function together\""
   ]
  },
  {
   "cell_type": "raw",
   "metadata": {},
   "source": [
    "5.Write a code to iterate through the given string and store the alphabet and count(occurance) in dictionary\n",
    "-{A:2,a:1, s:10, d:20 ,f:30}\n",
    "\"A computer is a machine that can be programmed to carry out sequences of\n",
    " arithmetic or logical operations automatically. Modern computers can perform\n",
    " generic sets of operations known as programs. These programs enable computers\n",
    " to perform a wide range of tasks. A computer system is a complete computer\n",
    " that includes the hardware operating system main software  and peripheral\n",
    " equipment needed and used for full operation. This term may also refer \n",
    "to a group of computers that are linked and function together\"\n",
    "----------First way--------"
   ]
  },
  {
   "cell_type": "code",
   "execution_count": 2,
   "metadata": {},
   "outputs": [
    {
     "name": "stdout",
     "output_type": "stream",
     "text": [
      "{'a': 38, 'b': 2, 'c': 18, 'd': 12, 'e': 52, 'f': 11, 'g': 9, 'h': 11, 'i': 20, 'k': 3, 'l': 12, 'm': 22, 'n': 24, 'o': 38, 'p': 20, 'q': 2, 'r': 39, 's': 26, 't': 36, 'u': 15, 'w': 4, 'y': 5, 'A': 2, 'M': 1, 'T': 2}\n"
     ]
    }
   ],
   "source": [
    "dict = {}\n",
    "string = \"A computer is a machine that can be programmed to carry out sequences of arithmetic or logical operations automatically. Modern computers can perform generic sets of operations known as programs. These programs enable computers to perform a wide range of tasks. A computer system is a complete computer that includes the hardware operating system main software  and peripheral equipment needed and used for full operation. This term may also refer to a group of computers that are linked and function together\"\n",
    "alpha = \"abcdefghijklmnopqrstuvwxyzABCDEFGHIJKLMNOPQRSTUVWXYZ\"\n",
    "for i in alpha:\n",
    "        dict[i] = string.count(i)\n",
    "for i,j in (dict.copy()).items():\n",
    "    if j == 0:\n",
    "        dict.pop(i)\n",
    "print(dict)"
   ]
  },
  {
   "cell_type": "raw",
   "metadata": {},
   "source": [
    "5.Write a code to iterate through the given string and store the alphabet and count(occurance) in dictionary\n",
    "-{A:2,a:1, s:10, d:20 ,f:30}\n",
    "\"A computer is a machine that can be programmed to carry out sequences of\n",
    " arithmetic or logical operations automatically. Modern computers can perform\n",
    " generic sets of operations known as programs. These programs enable computers\n",
    " to perform a wide range of tasks. A computer system is a complete computer\n",
    " that includes the hardware operating system main software  and peripheral\n",
    " equipment needed and used for full operation. This term may also refer \n",
    "to a group of computers that are linked and function together\"\n",
    "----------- Second Way----------"
   ]
  },
  {
   "cell_type": "code",
   "execution_count": 3,
   "metadata": {},
   "outputs": [
    {
     "name": "stdout",
     "output_type": "stream",
     "text": [
      "{'a': 1, 'b': 2, 'c': 3, 'd': 4, 'e': 5, 'f': 6, 'g': 7, 'h': 8, 'i': 9, 'j': 10, 'k': 11, 'l': 12, 'm': 13, 'n': 14, 'o': 15, 'p': 16, 'q': 17, 'r': 18, 's': 19, 't': 20, 'u': 21, 'v': 22, 'w': 23, 'x': 24, 'y': 25, 'z': 26}\n"
     ]
    }
   ],
   "source": [
    "dict = {}\n",
    "alp = 'abcdefghijklmnopqrstuvwxyz'\n",
    "tem=0\n",
    "for i in alp:\n",
    "    tem = tem +1\n",
    "    dict[i] = tem\n",
    "\n",
    "print(dict)"
   ]
  },
  {
   "cell_type": "code",
   "execution_count": null,
   "metadata": {},
   "outputs": [],
   "source": []
  }
 ],
 "metadata": {
  "kernelspec": {
   "display_name": "Python 3",
   "language": "python",
   "name": "python3"
  },
  "language_info": {
   "codemirror_mode": {
    "name": "ipython",
    "version": 3
   },
   "file_extension": ".py",
   "mimetype": "text/x-python",
   "name": "python",
   "nbconvert_exporter": "python",
   "pygments_lexer": "ipython3",
   "version": "3.8.5"
  }
 },
 "nbformat": 4,
 "nbformat_minor": 4
}
