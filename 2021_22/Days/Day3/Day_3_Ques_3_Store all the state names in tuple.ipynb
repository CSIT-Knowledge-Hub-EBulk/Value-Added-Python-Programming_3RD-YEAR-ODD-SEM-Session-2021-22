{
 "cells": [
  {
   "cell_type": "markdown",
   "metadata": {},
   "source": [
    "##### 3.Store all the state names in tuple.And iterate through it and print on terminal"
   ]
  },
  {
   "cell_type": "raw",
   "metadata": {},
   "source": [
    "Store all the state names in tuple."
   ]
  },
  {
   "cell_type": "code",
   "execution_count": 2,
   "metadata": {},
   "outputs": [],
   "source": [
    "# Store all the state names in tuple.\n",
    "# First way"
   ]
  },
  {
   "cell_type": "code",
   "execution_count": 1,
   "metadata": {},
   "outputs": [
    {
     "name": "stdout",
     "output_type": "stream",
     "text": [
      "kerala\n",
      "tamilnadu\n",
      "Andra\n",
      "karnataka\n",
      "himachal\n",
      "maharashtra\n"
     ]
    }
   ],
   "source": [
    "states = (\"kerala\",\"tamilnadu\",\"Andra\",\"karnataka\",\"himachal\",\"maharashtra\")\n",
    "for i in states:\n",
    "    print(i)"
   ]
  },
  {
   "cell_type": "code",
   "execution_count": 3,
   "metadata": {},
   "outputs": [],
   "source": [
    "# Store all the state names in tuple.\n",
    "# Second way"
   ]
  },
  {
   "cell_type": "code",
   "execution_count": 4,
   "metadata": {},
   "outputs": [
    {
     "name": "stdout",
     "output_type": "stream",
     "text": [
      "1  state:  Andhra Pradesh\n",
      "2  state:  Assam\n",
      "3  state:  Arunachal Pradesh\n",
      "4  state:  Bihar\n",
      "5  state:  Goa\n",
      "6  state:  Gujarat\n",
      "7  state:  Jammu and Kashmir\n",
      "8  state:  Jharkhand\n",
      "9  state:  West Bengal\n",
      "10  state:  Karnataka\n",
      "11  state:  Kerala\n",
      "12  state:  Madhya Pradesh\n",
      "13  state:  Maharashtra\n",
      "14  state:  Manipur\n",
      "15  state:  Meghalaya\n",
      "16  state:  Mizoram\n",
      "17  state:  Nagaland\n",
      "18  state:  Orissa\n",
      "19  state:  Punjab\n",
      "20  state:  Rajasthan\n",
      "21  state:  Sikkim\n",
      "22  state:  Tamil Nadu\n",
      "23  state:  Tripura\n",
      "24  state:  Uttaranchal\n",
      "25  state:  Uttar Pradesh\n",
      "26  state:  Haryana\n",
      "27  state:  Himachal Pradesh\n",
      "28  state:  Chhattisgarh\n"
     ]
    }
   ],
   "source": [
    "state = ( 'Andhra Pradesh', 'Assam', 'Arunachal Pradesh', 'Bihar', 'Goa', 'Gujarat', 'Jammu and Kashmir', 'Jharkhand', 'West Bengal', 'Karnataka', 'Kerala',\n",
    " 'Madhya Pradesh', 'Maharashtra', 'Manipur', 'Meghalaya', 'Mizoram', 'Nagaland', 'Orissa',\n",
    "  'Punjab', 'Rajasthan', 'Sikkim', 'Tamil Nadu', 'Tripura', 'Uttaranchal', 'Uttar Pradesh', 'Haryana',\n",
    "   'Himachal Pradesh','Chhattisgarh')\n",
    "x =0\n",
    "for i in state:\n",
    "    x += 1\n",
    "    print(f'{ x }  state:  {i}')"
   ]
  }
 ],
 "metadata": {
  "kernelspec": {
   "display_name": "Python 3",
   "language": "python",
   "name": "python3"
  },
  "language_info": {
   "codemirror_mode": {
    "name": "ipython",
    "version": 3
   },
   "file_extension": ".py",
   "mimetype": "text/x-python",
   "name": "python",
   "nbconvert_exporter": "python",
   "pygments_lexer": "ipython3",
   "version": "3.8.5"
  }
 },
 "nbformat": 4,
 "nbformat_minor": 4
}
