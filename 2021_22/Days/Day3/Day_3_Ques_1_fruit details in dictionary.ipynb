{
 "cells": [
  {
   "cell_type": "markdown",
   "metadata": {},
   "source": [
    "###### 1.Write a code to store fruit details in dictionary(fruit_name,rate,imported_from,import_date,buy_price) Take input from user"
   ]
  },
  {
   "cell_type": "raw",
   "metadata": {},
   "source": [
    "1.Write a code to store fruit details in dictionary(fruit_name,rate,imported_from,import_date,buy_price)\n",
    "Take input from user\n",
    "first ways-----------------------------------------------\n"
   ]
  },
  {
   "cell_type": "code",
   "execution_count": 1,
   "metadata": {},
   "outputs": [
    {
     "name": "stdout",
     "output_type": "stream",
     "text": [
      "Enter Fruit nameapple\n",
      "Enter Rate60\n",
      "Enter import locationayodhya\n",
      "Enter imported date20.09.2021\n",
      "Enter fruit buy price100\n",
      "{'name': 'apple', 'rate': 60, 'imp_from': 'ayodhya', 'imp_date': '20.09.2021', 'price': 100}\n"
     ]
    }
   ],
   "source": [
    "fruit = {}\n",
    "fruit['name'] = input(\"Enter Fruit name\")\n",
    "fruit['rate'] = int(input(\"Enter Rate\"))\n",
    "fruit['imp_from'] = input(\"Enter import location\")\n",
    "fruit['imp_date'] = input(\"Enter imported date\")\n",
    "fruit['price'] = int(input(\"Enter fruit buy price\"))\n",
    "print(fruit)"
   ]
  },
  {
   "cell_type": "raw",
   "metadata": {},
   "source": [
    "1.Write a code to store fruit details in dictionary(fruit_name,rate,imported_from,import_date,buy_price)\n",
    "Take input from user\n",
    "second ways-----------------------------------------------"
   ]
  },
  {
   "cell_type": "code",
   "execution_count": null,
   "metadata": {},
   "outputs": [
    {
     "name": "stdout",
     "output_type": "stream",
     "text": [
      "All fruit details\n"
     ]
    }
   ],
   "source": [
    "print('All fruit details')\n",
    "\n",
    "fruit={}\n",
    "\n",
    "while True:\n",
    "    seriel = input(\"Enter seriel number : \")\n",
    "    fname = input(\"Enter fruit name: \")\n",
    "    rate = input('Ener rate of fruit : ')\n",
    "    i_from = input('Enter the import source name : ')\n",
    "    i_date  = input('Enter tha date :')\n",
    "    buy_price = input('Enter the buying price : ')\n",
    "    temp = {\n",
    "        'fruit_name' : fname,\n",
    "        'rate ' : rate,\n",
    "        'imported_from' : i_from,\n",
    "        'imported_date' : i_date,\n",
    "        'buy_price': buy_price \n",
    "    }\n",
    "    fruit[seriel] = temp\n",
    "    print(fruit)"
   ]
  },
  {
   "cell_type": "code",
   "execution_count": null,
   "metadata": {},
   "outputs": [],
   "source": []
  }
 ],
 "metadata": {
  "kernelspec": {
   "display_name": "Python 3",
   "language": "python",
   "name": "python3"
  },
  "language_info": {
   "codemirror_mode": {
    "name": "ipython",
    "version": 3
   },
   "file_extension": ".py",
   "mimetype": "text/x-python",
   "name": "python",
   "nbconvert_exporter": "python",
   "pygments_lexer": "ipython3",
   "version": "3.8.5"
  }
 },
 "nbformat": 4,
 "nbformat_minor": 4
}
