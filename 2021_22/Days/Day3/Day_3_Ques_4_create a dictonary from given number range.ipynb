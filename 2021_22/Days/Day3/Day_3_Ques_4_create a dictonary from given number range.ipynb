{
 "cells": [
  {
   "cell_type": "markdown",
   "metadata": {},
   "source": [
    "##### 4.Write a code to create a dictonary from given number range\n",
    "-If the input is 4 then the keys in dictionary are 1,2,3,4\n",
    "-And value is square of the key\n",
    "{1:1, 2:4, 3:9 ,4:16, 5:25}"
   ]
  },
  {
   "cell_type": "raw",
   "metadata": {},
   "source": [
    "4.Write a code to create a dictonary from given number range\n",
    "-If the input is 4 then the keys in dictionary are 1,2,3,4\n",
    "-And value is square of the key\n",
    "{1:1, 2:4, 3:9 ,4:16, 5:25}\n",
    "First Way"
   ]
  },
  {
   "cell_type": "code",
   "execution_count": 1,
   "metadata": {},
   "outputs": [
    {
     "name": "stdout",
     "output_type": "stream",
     "text": [
      "Enter the range5\n",
      "{1: 1, 2: 4, 3: 9, 4: 16}\n"
     ]
    }
   ],
   "source": [
    "dict = {}\n",
    "lmt = int(input(\"Enter the range\"))\n",
    "for i in range(1,lmt):\n",
    "    dict[i] = i*i\n",
    "\n",
    "print(dict)"
   ]
  },
  {
   "cell_type": "raw",
   "metadata": {},
   "source": [
    "4.Write a code to create a dictonary from given number range\n",
    "-If the input is 4 then the keys in dictionary are 1,2,3,4\n",
    "-And value is square of the key\n",
    "{1:1, 2:4, 3:9 ,4:16, 5:25}\n",
    "Second way"
   ]
  },
  {
   "cell_type": "code",
   "execution_count": 2,
   "metadata": {},
   "outputs": [
    {
     "name": "stdout",
     "output_type": "stream",
     "text": [
      "Enter a number for range: 3\n",
      "{1: 1, 2: 4, 3: 9}\n"
     ]
    }
   ],
   "source": [
    "dict = {}\n",
    "\n",
    "for i in range(1,int(input(\"Enter a number for range: \") ) + 1 ):\n",
    "    dict[i] = i*i \n",
    "print(dict)"
   ]
  },
  {
   "cell_type": "code",
   "execution_count": null,
   "metadata": {},
   "outputs": [],
   "source": []
  }
 ],
 "metadata": {
  "kernelspec": {
   "display_name": "Python 3",
   "language": "python",
   "name": "python3"
  },
  "language_info": {
   "codemirror_mode": {
    "name": "ipython",
    "version": 3
   },
   "file_extension": ".py",
   "mimetype": "text/x-python",
   "name": "python",
   "nbconvert_exporter": "python",
   "pygments_lexer": "ipython3",
   "version": "3.8.5"
  }
 },
 "nbformat": 4,
 "nbformat_minor": 4
}
