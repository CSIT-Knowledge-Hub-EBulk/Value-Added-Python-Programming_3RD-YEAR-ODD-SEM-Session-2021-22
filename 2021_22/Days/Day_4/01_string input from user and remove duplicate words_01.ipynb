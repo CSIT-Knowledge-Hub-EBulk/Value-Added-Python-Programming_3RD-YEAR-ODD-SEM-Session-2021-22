{
 "cells": [
  {
   "cell_type": "code",
   "execution_count": 1,
   "metadata": {},
   "outputs": [
    {
     "name": "stdout",
     "output_type": "stream",
     "text": [
      "--------take string input from user and remove duplicate words-------\n",
      "Enter a sentence : This preview is truncated due to the large file size. Create a Notebook or download this file to see the full content.\n",
      "to Create large truncated full content. Notebook this or is file a due preview the see download size. This\n"
     ]
    }
   ],
   "source": [
    "print(\"--------take string input from user and remove duplicate words-------\")\n",
    "print(' '.join(list(set(input(\"Enter a sentence : \").split(\" \")))))"
   ]
  },
  {
   "cell_type": "code",
   "execution_count": null,
   "metadata": {},
   "outputs": [],
   "source": []
  }
 ],
 "metadata": {
  "kernelspec": {
   "display_name": "Python 3",
   "language": "python",
   "name": "python3"
  },
  "language_info": {
   "codemirror_mode": {
    "name": "ipython",
    "version": 3
   },
   "file_extension": ".py",
   "mimetype": "text/x-python",
   "name": "python",
   "nbconvert_exporter": "python",
   "pygments_lexer": "ipython3",
   "version": "3.8.5"
  }
 },
 "nbformat": 4,
 "nbformat_minor": 4
}
