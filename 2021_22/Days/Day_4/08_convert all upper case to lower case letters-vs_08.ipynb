{
 "cells": [
  {
   "cell_type": "code",
   "execution_count": 1,
   "metadata": {},
   "outputs": [
    {
     "name": "stdout",
     "output_type": "stream",
     "text": [
      "a COMPUTER IS A MACHINE THAT CAN BE PROGRAMMED TO CARRY OUT SEQUENCES OF ARITHMETIC OR LOGICAL OPERATIONS AUTOMATICALLY. mODERN COMPUTERS CAN PERFORM GENERIC SETS OF OPERATIONS KNOWN AS PROGRAMS. tHESE PROGRAMS ENABLE COMPUTERS TO PERFORM A WIDE RANGE OF TASKS. a COMPUTER SYSTEM IS A COMPLETE COMPUTER THAT INCLUDES THE HARDWARE OPERATING SYSTEM MAIN SOFTWARE AND PERIPHERAL EQUIPMENT NEEDED AND USED FOR FULL OPERATION. tHIS TERM MAY ALSO REFER TO A GROUP OF COMPUTERS THAT ARE LINKED AND FUNCTION TOGETHER\n"
     ]
    }
   ],
   "source": [
    "string = \"A computer is a machine that can be programmed to carry out sequences of arithmetic or logical operations automatically. Modern computers can perform generic sets of operations known as programs. These programs enable computers to perform a wide range of tasks. A computer system is a complete computer that includes the hardware operating system main software and peripheral equipment needed and used for full operation. This term may also refer to a group of computers that are linked and function together\"\n",
    "str1 = ''\n",
    "for i in string:\n",
    "    if i.isupper():\n",
    "        # print(i)\n",
    "        str1 += i.lower() + ''\n",
    "    else:\n",
    "        i.islower()\n",
    "        str1 += i.upper() + ''\n",
    "print(str1)"
   ]
  },
  {
   "cell_type": "code",
   "execution_count": null,
   "metadata": {},
   "outputs": [],
   "source": []
  }
 ],
 "metadata": {
  "kernelspec": {
   "display_name": "Python 3",
   "language": "python",
   "name": "python3"
  },
  "language_info": {
   "codemirror_mode": {
    "name": "ipython",
    "version": 3
   },
   "file_extension": ".py",
   "mimetype": "text/x-python",
   "name": "python",
   "nbconvert_exporter": "python",
   "pygments_lexer": "ipython3",
   "version": "3.8.5"
  }
 },
 "nbformat": 4,
 "nbformat_minor": 4
}
