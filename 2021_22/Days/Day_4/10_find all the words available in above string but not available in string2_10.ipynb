{
 "cells": [
  {
   "cell_type": "code",
   "execution_count": 1,
   "metadata": {},
   "outputs": [
    {
     "name": "stdout",
     "output_type": "stream",
     "text": [
      "{'to', 'equipment', 'can', 'includes', 'arithmetic', 'is', 'out', 'programs.', 'system', 'group', 'Modern', 'refer', 'may', 'enable', 'needed', 'also', 'tasks.', 'sets', 'term', 'operation.', 'main', 'full', 'carry', 'programs', 'machine', 'known', 'generic', 'logical', 'a', 'wide', 'sequences', 'used', 'linked', 'programmed', 'software', 'computer', 'peripheral', 'automatically.', 'operating', 'These', 'This', 'hardware', 'for', 'be', 'operations', 'or', 'together', 'complete', 'that', 'perform', 'function'}\n"
     ]
    }
   ],
   "source": [
    "string = \"A computer is a machine that can be programmed to carry out sequences of arithmetic or logical operations automatically. Modern computers can perform generic sets of operations known as programs. These programs enable computers to perform a wide range of tasks. A computer system is a complete computer that includes the hardware operating system main software and peripheral equipment needed and used for full operation. This term may also refer to a group of computers that are linked and function together\"\n",
    "string2 = \"A broad range of industrial and consumer products use computers as control systems. Simple special-purpose devices like microwave ovens and remote controls are included, as are factory devices like industrial robots and computer-aided design, as well as general-purpose devices like personal computers and mobile devices like smartphones. Computers power the Internet, which links hundreds of millions of other computers and users. \"\n",
    "print(set(string.split(\" \")).difference(set(string2.split(\" \"))))"
   ]
  },
  {
   "cell_type": "code",
   "execution_count": null,
   "metadata": {},
   "outputs": [],
   "source": []
  }
 ],
 "metadata": {
  "kernelspec": {
   "display_name": "Python 3",
   "language": "python",
   "name": "python3"
  },
  "language_info": {
   "codemirror_mode": {
    "name": "ipython",
    "version": 3
   },
   "file_extension": ".py",
   "mimetype": "text/x-python",
   "name": "python",
   "nbconvert_exporter": "python",
   "pygments_lexer": "ipython3",
   "version": "3.8.5"
  }
 },
 "nbformat": 4,
 "nbformat_minor": 4
}
