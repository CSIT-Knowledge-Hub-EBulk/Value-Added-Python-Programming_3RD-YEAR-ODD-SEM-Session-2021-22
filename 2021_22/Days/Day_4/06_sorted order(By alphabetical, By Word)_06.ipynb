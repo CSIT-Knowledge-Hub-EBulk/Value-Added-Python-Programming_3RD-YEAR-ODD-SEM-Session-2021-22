{
 "cells": [
  {
   "cell_type": "code",
   "execution_count": 1,
   "metadata": {},
   "outputs": [
    {
     "name": "stdout",
     "output_type": "stream",
     "text": [
      "['A', 'A', 'Modern', 'These', 'This', 'a', 'a', 'a', 'a', 'also', 'and', 'and', 'and', 'are', 'arithmetic', 'as', 'automatically.', 'be', 'can', 'can', 'carry', 'complete', 'computer', 'computer', 'computer', 'computers', 'computers', 'computers', 'enable', 'equipment', 'for', 'full', 'function', 'generic', 'group', 'hardware', 'includes', 'is', 'is', 'known', 'linked', 'logical', 'machine', 'main', 'may', 'needed', 'of', 'of', 'of', 'of', 'operating', 'operation.', 'operations', 'operations', 'or', 'out', 'perform', 'perform', 'peripheral', 'programmed', 'programs', 'programs.', 'range', 'refer', 'sequences', 'sets', 'software', 'system', 'system', 'tasks.', 'term', 'that', 'that', 'that', 'the', 'to', 'to', 'to', 'together', 'used', 'wide']\n"
     ]
    }
   ],
   "source": [
    "string = \"A computer is a machine that can be programmed to carry out sequences of arithmetic or logical operations automatically. Modern computers can perform generic sets of operations known as programs. These programs enable computers to perform a wide range of tasks. A computer system is a complete computer that includes the hardware operating system main software and peripheral equipment needed and used for full operation. This term may also refer to a group of computers that are linked and function together\"\n",
    "str1 = string.split(\" \")\n",
    "str1.sort()\n",
    "print(str1)"
   ]
  },
  {
   "cell_type": "code",
   "execution_count": null,
   "metadata": {},
   "outputs": [],
   "source": []
  }
 ],
 "metadata": {
  "kernelspec": {
   "display_name": "Python 3",
   "language": "python",
   "name": "python3"
  },
  "language_info": {
   "codemirror_mode": {
    "name": "ipython",
    "version": 3
   },
   "file_extension": ".py",
   "mimetype": "text/x-python",
   "name": "python",
   "nbconvert_exporter": "python",
   "pygments_lexer": "ipython3",
   "version": "3.8.5"
  }
 },
 "nbformat": 4,
 "nbformat_minor": 4
}
