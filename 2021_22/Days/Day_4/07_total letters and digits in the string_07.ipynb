{
 "cells": [
  {
   "cell_type": "code",
   "execution_count": 1,
   "metadata": {},
   "outputs": [
    {
     "name": "stdout",
     "output_type": "stream",
     "text": [
      "enter a string and with containing both letter and digit : efg123\n",
      "digits: 3\n",
      "letters : 3\n"
     ]
    }
   ],
   "source": [
    "# print('counting total digit and total letter on the given string')\n",
    "string = input('enter a string and with containing both letter and digit : ')\n",
    "digit = 0\n",
    "letter = 0\n",
    "for i in string:\n",
    "    if i.isdigit():\n",
    "        digit += 1\n",
    "    else:\n",
    "        letter += 1\n",
    "print(f'digits: {digit}\\nletters : {letter}')"
   ]
  },
  {
   "cell_type": "code",
   "execution_count": null,
   "metadata": {},
   "outputs": [],
   "source": []
  }
 ],
 "metadata": {
  "kernelspec": {
   "display_name": "Python 3",
   "language": "python",
   "name": "python3"
  },
  "language_info": {
   "codemirror_mode": {
    "name": "ipython",
    "version": 3
   },
   "file_extension": ".py",
   "mimetype": "text/x-python",
   "name": "python",
   "nbconvert_exporter": "python",
   "pygments_lexer": "ipython3",
   "version": "3.8.5"
  }
 },
 "nbformat": 4,
 "nbformat_minor": 4
}
