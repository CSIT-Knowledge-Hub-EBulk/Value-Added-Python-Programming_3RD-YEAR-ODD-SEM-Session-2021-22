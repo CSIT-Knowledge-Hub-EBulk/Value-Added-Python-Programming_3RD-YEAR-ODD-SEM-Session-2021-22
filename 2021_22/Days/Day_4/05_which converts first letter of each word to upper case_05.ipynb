{
 "cells": [
  {
   "cell_type": "code",
   "execution_count": 1,
   "metadata": {},
   "outputs": [
    {
     "name": "stdout",
     "output_type": "stream",
     "text": [
      " A Computer Is A Machine That Can Be Programmed To Carry Out Sequences Of Arithmetic Or Logical Operations Automatically. Modern Computers Can Perform Generic Sets Of Operations Known As Programs. These Programs Enable Computers To Perform A Wide Range Of Tasks. A Computer System Is A Complete Computer That Includes The Hardware Operating System Main Software And Peripheral Equipment Needed And Used For Full Operation. This Term May Also Refer To A Group Of Computers That Are Linked And Function Together \n"
     ]
    }
   ],
   "source": [
    "# Given string\n",
    "def each_first_letter_caps():\n",
    "    string = \"A computer is a machine that can be programmed to carry out sequences of arithmetic or logical operations automatically. Modern computers can perform generic sets of operations known as programs. These programs enable computers to perform a wide range of tasks. A computer system is a complete computer that includes the hardware operating system main software and peripheral equipment needed and used for full operation. This term may also refer to a group of computers that are linked and function together\"\n",
    "    caps = \" \"\n",
    "    for i in string.split(\" \"):\n",
    "        caps += i.capitalize() + ' '\n",
    "    return caps\n",
    "\n",
    "\n",
    "print(each_first_letter_caps())"
   ]
  },
  {
   "cell_type": "code",
   "execution_count": null,
   "metadata": {},
   "outputs": [],
   "source": []
  }
 ],
 "metadata": {
  "kernelspec": {
   "display_name": "Python 3",
   "language": "python",
   "name": "python3"
  },
  "language_info": {
   "codemirror_mode": {
    "name": "ipython",
    "version": 3
   },
   "file_extension": ".py",
   "mimetype": "text/x-python",
   "name": "python",
   "nbconvert_exporter": "python",
   "pygments_lexer": "ipython3",
   "version": "3.8.5"
  }
 },
 "nbformat": 4,
 "nbformat_minor": 4
}
