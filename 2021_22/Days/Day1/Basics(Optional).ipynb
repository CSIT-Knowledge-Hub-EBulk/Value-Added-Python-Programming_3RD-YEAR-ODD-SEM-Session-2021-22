{
 "cells": [
  {
   "cell_type": "raw",
   "metadata": {},
   "source": [
    "Basics(Optional):\n",
    "1.Write a program to find even number\n",
    "2.Write a program to find odd number\n",
    "3.Write a program to check given string ends with \"t\" or not\n",
    "4.Write a program to check given string containes \"iis\" at the end or not.\n",
    "5.Write a program to print even number from 1 to 20\n",
    "6.Write a program to print odd number from 1 to 20"
   ]
  },
  {
   "cell_type": "code",
   "execution_count": 1,
   "metadata": {},
   "outputs": [
    {
     "name": "stdout",
     "output_type": "stream",
     "text": [
      "Enter a number56\n",
      "even number\n"
     ]
    }
   ],
   "source": [
    "# 1.Write a program to find even number.\n",
    "num = int(input(\"Enter a number\"))\n",
    "if(num%2==0):\n",
    "\tprint(\"even number\")\n",
    "else:\n",
    "\tprint(\"it is not a even number\")"
   ]
  },
  {
   "cell_type": "code",
   "execution_count": 2,
   "metadata": {},
   "outputs": [
    {
     "name": "stdout",
     "output_type": "stream",
     "text": [
      "Enter the number5\n",
      "It is an odd number\n"
     ]
    }
   ],
   "source": [
    "# 2.Write a program to find odd number.\n",
    "num =  int(input(\"Enter the number\"))\n",
    "if (num%2!=0):\n",
    "\tprint(\"It is an odd number\")\n",
    "else:\n",
    "\tprint(\"It is not an odd number\")"
   ]
  },
  {
   "cell_type": "code",
   "execution_count": 3,
   "metadata": {},
   "outputs": [
    {
     "name": "stdout",
     "output_type": "stream",
     "text": [
      "Enter a stringshweta\n",
      "it is not ends with t\n"
     ]
    }
   ],
   "source": [
    "# 3.Write a program to check given string ends with \"t\" or not.\n",
    "str = input(\"Enter a string\")\n",
    "if (str[-1] == 't'):\n",
    "\tprint(\"it is ends with t\")\n",
    "else:\n",
    "\tprint(\"it is not ends with t\")"
   ]
  },
  {
   "cell_type": "code",
   "execution_count": 4,
   "metadata": {},
   "outputs": [
    {
     "name": "stdout",
     "output_type": "stream",
     "text": [
      "Enter a stringfdgdfh\n",
      "not have iis at the end\n"
     ]
    }
   ],
   "source": [
    "# 4.Write a program to check given string containes \"iis\" at the end or not.\n",
    "str = input(\"Enter a string\")\n",
    "if(str[-1:-4:-1] == \"sii\"):\n",
    "\tprint(\"contains iis at the end\")\n",
    "else:\n",
    "\tprint(\"not have iis at the end\")"
   ]
  },
  {
   "cell_type": "code",
   "execution_count": 5,
   "metadata": {},
   "outputs": [
    {
     "name": "stdout",
     "output_type": "stream",
     "text": [
      "2\n",
      "4\n",
      "6\n",
      "8\n",
      "10\n",
      "12\n",
      "14\n",
      "16\n",
      "18\n",
      "20\n"
     ]
    }
   ],
   "source": [
    "# 5.Write a program to print even number from 1 to 20\n",
    "for i in range(2,21,2):\n",
    "\tprint(i)"
   ]
  },
  {
   "cell_type": "code",
   "execution_count": 6,
   "metadata": {},
   "outputs": [
    {
     "name": "stdout",
     "output_type": "stream",
     "text": [
      "1\n",
      "3\n",
      "5\n",
      "7\n",
      "9\n",
      "11\n",
      "13\n",
      "15\n",
      "17\n",
      "19\n"
     ]
    }
   ],
   "source": [
    "# 6.Write a program to print odd number from 1 to 20\n",
    "for i in range(1,20,2):\n",
    "\tprint(i)"
   ]
  },
  {
   "cell_type": "code",
   "execution_count": null,
   "metadata": {},
   "outputs": [],
   "source": []
  }
 ],
 "metadata": {
  "kernelspec": {
   "display_name": "Python 3",
   "language": "python",
   "name": "python3"
  },
  "language_info": {
   "codemirror_mode": {
    "name": "ipython",
    "version": 3
   },
   "file_extension": ".py",
   "mimetype": "text/x-python",
   "name": "python",
   "nbconvert_exporter": "python",
   "pygments_lexer": "ipython3",
   "version": "3.8.5"
  }
 },
 "nbformat": 4,
 "nbformat_minor": 4
}
