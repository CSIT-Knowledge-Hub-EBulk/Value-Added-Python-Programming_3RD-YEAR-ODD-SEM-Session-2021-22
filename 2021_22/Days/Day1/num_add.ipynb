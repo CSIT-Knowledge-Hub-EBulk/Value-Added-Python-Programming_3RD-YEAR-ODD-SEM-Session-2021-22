{
 "cells": [
  {
   "cell_type": "raw",
   "metadata": {},
   "source": [
    "num=\"1,2,3,4,5,6,7,8,9\"\n",
    "Use above string in below questions:\n",
    "1.Perform addition of all numbers in the string\n",
    "2.Perform addition of all even number from string\n",
    "var=\"Click Open link on the dialog shown by your browser\"\n",
    "3.Write a code to search substring in above string using while loop.(Take substring from user)"
   ]
  },
  {
   "cell_type": "code",
   "execution_count": 1,
   "metadata": {},
   "outputs": [
    {
     "name": "stdout",
     "output_type": "stream",
     "text": [
      "______________Addition of all numbers __________________\n",
      "numbers are  123456789\n",
      "The sum is  45\n"
     ]
    }
   ],
   "source": [
    "num = \"1,2,3,4,5,6,7,8,9\"\n",
    "# 1.Perform addition of all numbers in the string\n",
    "print(\"______________Addition of all numbers __________________\")\n",
    "\n",
    "sum = 0\n",
    "numbers = num[0::2]\n",
    "print(\"numbers are \" ,numbers)\n",
    "for i in numbers:\n",
    "\tx = int(i)\n",
    "\tsum = sum+x\n",
    "\n",
    "print(\"The sum is \" ,sum)"
   ]
  },
  {
   "cell_type": "code",
   "execution_count": 2,
   "metadata": {},
   "outputs": [
    {
     "name": "stdout",
     "output_type": "stream",
     "text": [
      "the even numbers are 2468\n",
      "The even sum is  20\n"
     ]
    }
   ],
   "source": [
    "num = \"1,2,3,4,5,6,7,8,9\"\n",
    "\n",
    "# 2.Perform addition of all even number from string\n",
    "\n",
    "even = numbers[1::2]\n",
    "print(\"the even numbers are\" , even)\n",
    "sum = 0\n",
    "for i in even:\n",
    "\tx = int(i)\n",
    "\tsum = sum+x\n",
    "\n",
    "print(\"The even sum is \" , sum)"
   ]
  },
  {
   "cell_type": "code",
   "execution_count": 3,
   "metadata": {},
   "outputs": [
    {
     "name": "stdout",
     "output_type": "stream",
     "text": [
      "Enter a substringshweta\n",
      "not a substring\n"
     ]
    }
   ],
   "source": [
    "var = \"Click Open link on the dialog shown by your browser\"\n",
    "# 3.Write a code to search substring in above string using while loop.(Take substring from user)\n",
    "sub = input(\"Enter a substring\")\n",
    "\n",
    "ls = len(sub)\n",
    "lv = len(var)\n",
    "i = 0\n",
    "x = 0\n",
    "while(i < lv):\n",
    "\tif (var[i:ls+i] == sub):\n",
    "\t\tx = 1\n",
    "\ti=i+1\n",
    "\n",
    "if(x == 1):\n",
    "\tprint(\"substring found\")\n",
    "else:\n",
    "\tprint(\"not a substring\")"
   ]
  },
  {
   "cell_type": "code",
   "execution_count": null,
   "metadata": {},
   "outputs": [],
   "source": []
  }
 ],
 "metadata": {
  "kernelspec": {
   "display_name": "Python 3",
   "language": "python",
   "name": "python3"
  },
  "language_info": {
   "codemirror_mode": {
    "name": "ipython",
    "version": 3
   },
   "file_extension": ".py",
   "mimetype": "text/x-python",
   "name": "python",
   "nbconvert_exporter": "python",
   "pygments_lexer": "ipython3",
   "version": "3.8.5"
  }
 },
 "nbformat": 4,
 "nbformat_minor": 4
}
