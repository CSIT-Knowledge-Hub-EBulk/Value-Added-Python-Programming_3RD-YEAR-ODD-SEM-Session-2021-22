{
 "cells": [
  {
   "cell_type": "raw",
   "metadata": {},
   "source": [
    "# num=\"1,2,3,4,5,6,7,8,9\"\n",
    "Note:Use num string in below questions:\n",
    "1.Print only numbers not comma\n",
    "2.Print all even numbers\n",
    "3.Fetch \"1\" and \"5\" from string and perform numerical addition\n",
    "4.Fetch \"2\" and \"8\" from string and perfrom numerical muliplication\n",
    "_______________________________________________________________________"
   ]
  },
  {
   "cell_type": "code",
   "execution_count": 2,
   "metadata": {},
   "outputs": [
    {
     "name": "stdout",
     "output_type": "stream",
     "text": [
      "print only numbers :  123456789\n"
     ]
    }
   ],
   "source": [
    "num = \"1,2,3,4,5,6,7,8,9\"\n",
    "# 1.Print only numbers not comma\n",
    "print(\"print only numbers : \" ,num[0::2])"
   ]
  },
  {
   "cell_type": "code",
   "execution_count": 6,
   "metadata": {},
   "outputs": [
    {
     "name": "stdout",
     "output_type": "stream",
     "text": [
      "print all even numbers :  2468\n"
     ]
    }
   ],
   "source": [
    "num = \"1,2,3,4,5,6,7,8,9\"\n",
    "# 2.Print all even numbers\n",
    "print(\"print all even numbers : \",num[2::4])"
   ]
  },
  {
   "cell_type": "code",
   "execution_count": 3,
   "metadata": {},
   "outputs": [
    {
     "name": "stdout",
     "output_type": "stream",
     "text": [
      "fetch 1,5 and add :  6\n"
     ]
    }
   ],
   "source": [
    "num = \"1,2,3,4,5,6,7,8,9\"\n",
    "# 3.Fetch \"1\" and \"5\" from string and perform numerical addition\n",
    "print(\"fetch 1,5 and add : \" ,int(num[0])+int(num[8]))"
   ]
  },
  {
   "cell_type": "code",
   "execution_count": 4,
   "metadata": {},
   "outputs": [
    {
     "name": "stdout",
     "output_type": "stream",
     "text": [
      "fetch 2,8 and multiply :  16\n"
     ]
    }
   ],
   "source": [
    "num = \"1,2,3,4,5,6,7,8,9\"\n",
    "# 4.Fetch \"2\" and \"8\" from string and perfrom numerical muliplication\n",
    "print(\"fetch 2,8 and multiply : \",int(num[2])*int(num[-3]))"
   ]
  },
  {
   "cell_type": "code",
   "execution_count": null,
   "metadata": {},
   "outputs": [],
   "source": []
  }
 ],
 "metadata": {
  "kernelspec": {
   "display_name": "Python 3",
   "language": "python",
   "name": "python3"
  },
  "language_info": {
   "codemirror_mode": {
    "name": "ipython",
    "version": 3
   },
   "file_extension": ".py",
   "mimetype": "text/x-python",
   "name": "python",
   "nbconvert_exporter": "python",
   "pygments_lexer": "ipython3",
   "version": "3.8.5"
  }
 },
 "nbformat": 4,
 "nbformat_minor": 4
}
