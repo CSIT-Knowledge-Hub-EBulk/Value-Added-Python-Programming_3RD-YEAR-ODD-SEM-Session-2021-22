{
 "cells": [
  {
   "cell_type": "raw",
   "metadata": {},
   "source": [
    "###### \"Click Open link on the dialog shown by your browser\"\n",
    "Note: Use above string in below questions.\n",
    "Write code in python\n",
    "1.Fetch \"browser\"\n",
    "2.Fetch \"link\"\n",
    "3.Convert Whole string to uppercase\n",
    "4.Convert whole string to lowercase\n",
    "5.Convert \"Click\" to upper case in string\n",
    "6.Convert \"Open\" and \"browser\" to upper case in string\n",
    "7.Print \"Open link: in reverse order"
   ]
  },
  {
   "cell_type": "code",
   "execution_count": 14,
   "metadata": {},
   "outputs": [
    {
     "name": "stdout",
     "output_type": "stream",
     "text": [
      "Fetch browser :  browser\n"
     ]
    }
   ],
   "source": [
    "s = \"Click open link on the dialog shown by your browser\"\n",
    "#1.Fetch \"browser\"\n",
    "print(\"Fetch browser : \" ,s[-7:])"
   ]
  },
  {
   "cell_type": "code",
   "execution_count": 8,
   "metadata": {},
   "outputs": [
    {
     "name": "stdout",
     "output_type": "stream",
     "text": [
      "Fetch link :  link \n"
     ]
    }
   ],
   "source": [
    "s = \"Click open link on the dialog shown by your browser\"\n",
    "#2.Fetch \"link\"\n",
    "print(\"Fetch link : \" ,s[11:16])"
   ]
  },
  {
   "cell_type": "code",
   "execution_count": 9,
   "metadata": {},
   "outputs": [
    {
     "name": "stdout",
     "output_type": "stream",
     "text": [
      "whole string in upper :  CLICK OPEN LINK ON THE DIALOG SHOWN BY YOUR BROWSER\n"
     ]
    }
   ],
   "source": [
    "s = \"Click open link on the dialog shown by your browser\"\n",
    "# 3.Convert Whole string to uppercase\n",
    "print(\"whole string in upper : \" ,s.upper())"
   ]
  },
  {
   "cell_type": "code",
   "execution_count": 10,
   "metadata": {},
   "outputs": [
    {
     "name": "stdout",
     "output_type": "stream",
     "text": [
      "whole string in lower :  click open link on the dialog shown by your browser\n"
     ]
    }
   ],
   "source": [
    "s = \"Click open link on the dialog shown by your browser\"\n",
    "# 4.Convert whole string to lowercase\n",
    "print(\"whole string in lower : \",s.lower())"
   ]
  },
  {
   "cell_type": "code",
   "execution_count": 11,
   "metadata": {},
   "outputs": [
    {
     "name": "stdout",
     "output_type": "stream",
     "text": [
      "Click to upper :  CLICK open link on the dialog shown by your browser\n"
     ]
    }
   ],
   "source": [
    "s = \"Click open link on the dialog shown by your browser\"\n",
    "# 5.Convert \"Click\" to upper case in string\n",
    "print(\"Click to upper : \", s[:5].upper() + s[5:])"
   ]
  },
  {
   "cell_type": "code",
   "execution_count": 12,
   "metadata": {},
   "outputs": [
    {
     "name": "stdout",
     "output_type": "stream",
     "text": [
      "open  and browser to upper :  Click OPEN link on the dialog shown by your BROWSER\n"
     ]
    }
   ],
   "source": [
    "s = \"Click open link on the dialog shown by your browser\"\n",
    "# 6.Convert \"Open\" and \"browser\" to upper case in string\n",
    "print(\"open  and browser to upper : \", s[:6] + s[6:10].upper() + s[10:44] + s[-7:].upper())"
   ]
  },
  {
   "cell_type": "code",
   "execution_count": 13,
   "metadata": {},
   "outputs": [
    {
     "name": "stdout",
     "output_type": "stream",
     "text": [
      "open link in reverse order :   knil nepo\n"
     ]
    }
   ],
   "source": [
    "s = \"Click open link on the dialog shown by your browser\"\n",
    "# 7.Print \"Open link: in reverse order\n",
    "print(\"open link in reverse order : \",s[15:5:-1])"
   ]
  },
  {
   "cell_type": "code",
   "execution_count": null,
   "metadata": {},
   "outputs": [],
   "source": []
  }
 ],
 "metadata": {
  "kernelspec": {
   "display_name": "Python 3",
   "language": "python",
   "name": "python3"
  },
  "language_info": {
   "codemirror_mode": {
    "name": "ipython",
    "version": 3
   },
   "file_extension": ".py",
   "mimetype": "text/x-python",
   "name": "python",
   "nbconvert_exporter": "python",
   "pygments_lexer": "ipython3",
   "version": "3.8.5"
  }
 },
 "nbformat": 4,
 "nbformat_minor": 4
}
