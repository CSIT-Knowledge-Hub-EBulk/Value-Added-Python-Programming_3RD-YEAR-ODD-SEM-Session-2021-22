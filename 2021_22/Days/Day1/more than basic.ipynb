{
 "cells": [
  {
   "cell_type": "raw",
   "metadata": {},
   "source": [
    "1.Write a code to find out which number is greater out of four number\n",
    "2.Write a code to print day of the week.\n",
    "3.Write a code to print table of given number.(Take input from user)\n",
    "4.Write a menu driven calculator, Addition,Substraction,Muliplication,Divison,Floor divison,Modulas(Try float values for all operation)\n",
    "5.Write a menu driven code to print table of given number for given range."
   ]
  },
  {
   "cell_type": "code",
   "execution_count": 1,
   "metadata": {},
   "outputs": [
    {
     "name": "stdout",
     "output_type": "stream",
     "text": [
      "Enter first number2678\n",
      "Enter second number46\n",
      "Enter third number5\n",
      "Enter fourth number89\n",
      "The greatest number is  2678\n"
     ]
    }
   ],
   "source": [
    "# 1.Write a code to find out which number is greater out of four number.\n",
    "num1 = int(input(\"Enter first number\"))\n",
    "num2 = int(input(\"Enter second number\"))\n",
    "num3 = int(input(\"Enter third number\"))\n",
    "num4 = int(input(\"Enter fourth number\"))\n",
    "if ( (num1 > num2) and (num1 > num3) and (num1 > num4)):\n",
    "\tprint(\"The greatest number is \",num1)\n",
    "elif ((num2 > num1) and (num2 > num3) and (num2 > num4)):\n",
    "\tprint(\"The greatest number is \" , num2)\n",
    "elif (num3 > num1 and  num3 > num2 and num3 > num4):\n",
    "\tpint(\"the greatest number is \" , num3)\n",
    "else:\n",
    "\tprint (\"the greatest is \", num4)"
   ]
  },
  {
   "cell_type": "code",
   "execution_count": 3,
   "metadata": {},
   "outputs": [
    {
     "name": "stdout",
     "output_type": "stream",
     "text": [
      "Enter the day5\n",
      "the day is friday\n"
     ]
    }
   ],
   "source": [
    "# 2.Write a code to print day of the week.\n",
    "day = int(input(\"Enter the day\"))\n",
    "\n",
    "\n",
    "if day == 1:\n",
    "\tprint(\"the day is monday\")\n",
    "elif day == 2:\n",
    "\tprint(\"the day is tuesday\")\n",
    "elif day == 3:\n",
    "\tprint(\"the day is wednesday\")\n",
    "elif day == 4:\n",
    "\tprint(\"the day is thursday\")\n",
    "elif day == 5:\n",
    "\tprint(\"the day is friday\")\n",
    "elif day == 6:\n",
    "\tprint(\"the day is saturday\")\n",
    "elif day == 7:\n",
    "\tprint(\"the day is sunday\")\n",
    "else:\n",
    "\tprint(\"invalid option\")"
   ]
  },
  {
   "cell_type": "code",
   "execution_count": 4,
   "metadata": {},
   "outputs": [
    {
     "name": "stdout",
     "output_type": "stream",
     "text": [
      "____________Multiplication Table____________\n",
      "Enter a number5\n",
      "1  x  5  =  5\n",
      "2  x  5  =  10\n",
      "3  x  5  =  15\n",
      "4  x  5  =  20\n",
      "5  x  5  =  25\n",
      "6  x  5  =  30\n",
      "7  x  5  =  35\n",
      "8  x  5  =  40\n",
      "9  x  5  =  45\n",
      "10  x  5  =  50\n"
     ]
    }
   ],
   "source": [
    "# 3.Write a code to print table of given number.(Take input from user).\n",
    "print(\"____________Multiplication Table____________\")\n",
    "num = int(input(\"Enter a number\"))\n",
    "\n",
    "count = 1\n",
    "while (count<=10):\n",
    "\tprint(count,\" x \",num,\" = \",count*num)\n",
    "\tcount+=1"
   ]
  },
  {
   "cell_type": "code",
   "execution_count": 6,
   "metadata": {},
   "outputs": [
    {
     "name": "stdout",
     "output_type": "stream",
     "text": [
      "________________Calculator______________\n",
      "press 1 for Addition\n",
      "press 2 for subtraction\n",
      "press 3 for Multiplication\n",
      "press 4 for Division\n",
      "press 5 for Floor Division\n",
      "press 6 for  Modulus\n",
      "press 7 for exit\n",
      "Enter choice4\n",
      "Enter First number8\n",
      "Enter Second number4\n",
      " the result is  2.0\n",
      "press 1 for Addition\n",
      "press 2 for subtraction\n",
      "press 3 for Multiplication\n",
      "press 4 for Division\n",
      "press 5 for Floor Division\n",
      "press 6 for  Modulus\n",
      "press 7 for exit\n",
      "Enter choice3\n",
      "Enter First number3\n",
      "Enter Second number6\n",
      "the result is  18\n",
      "press 1 for Addition\n",
      "press 2 for subtraction\n",
      "press 3 for Multiplication\n",
      "press 4 for Division\n",
      "press 5 for Floor Division\n",
      "press 6 for  Modulus\n",
      "press 7 for exit\n",
      "Enter choice5\n",
      "Enter First number7\n",
      "Enter Second number4\n",
      "the result is 1\n",
      "press 1 for Addition\n",
      "press 2 for subtraction\n",
      "press 3 for Multiplication\n",
      "press 4 for Division\n",
      "press 5 for Floor Division\n",
      "press 6 for  Modulus\n",
      "press 7 for exit\n",
      "Enter choice7\n"
     ]
    }
   ],
   "source": [
    "# 4.Write a menu driven calculator, Addition,Substraction,Muliplication,Divison,Floor divison,Modulas(Try float values for all operation)\n",
    "print(\"________________Calculator______________\")\n",
    "\n",
    "\n",
    "while True:\n",
    "\tprint(\"press 1 for Addition\")\n",
    "\tprint(\"press 2 for subtraction\")\n",
    "\tprint(\"press 3 for Multiplication\")\n",
    "\tprint(\"press 4 for Division\")\n",
    "\tprint(\"press 5 for Floor Division\")\n",
    "\tprint(\"press 6 for  Modulus\")\n",
    "\tprint(\"press 7 for exit\")\n",
    "\tchoice = int(input(\"Enter choice\"))\n",
    "\n",
    "\tif(choice == 7):\n",
    "\t\tbreak\n",
    "\n",
    "\tnum1 = int(input(\"Enter First number\"))\n",
    "\tnum2 = int(input(\"Enter Second number\"))\n",
    "\t\n",
    "\tif (choice == 1):\n",
    "\t\tprint(\"the result is \" ,num1+num2)\n",
    "\telif (choice == 2):\n",
    "\t\tprint(\"the result is \" , num1-num2)\n",
    "\telif (choice ==3):\n",
    "\t\tprint(\"the result is \" , num1*num2)\n",
    "\telif (choice == 4):\n",
    "\t\tprint(\" the result is \" , num1/num2)\n",
    "\telif (choice == 5):\n",
    "\t\tprint(\"the result is\" , num1//num2)\n",
    "\telif (choice == 6):\n",
    "\t\tprint(\"the result is \" , num1%num2)\n",
    "\telse:\n",
    "\t\tprint(\"invalid choice\") "
   ]
  },
  {
   "cell_type": "code",
   "execution_count": 7,
   "metadata": {},
   "outputs": [
    {
     "name": "stdout",
     "output_type": "stream",
     "text": [
      "_________________Menu Driven Multiplication Table __________________\n",
      "Enter q for exit or press enter to continue5\n",
      "Enter a number3\n",
      "Enter a range5\n",
      "1  x  3  =  3\n",
      "2  x  3  =  6\n",
      "3  x  3  =  9\n",
      "4  x  3  =  12\n",
      "5  x  3  =  15\n",
      "Enter q for exit or press enter to continue73\n",
      "Enter a number2\n",
      "Enter a range6\n",
      "1  x  2  =  2\n",
      "2  x  2  =  4\n",
      "3  x  2  =  6\n",
      "4  x  2  =  8\n",
      "5  x  2  =  10\n",
      "6  x  2  =  12\n",
      "Enter q for exit or press enter to continueq\n"
     ]
    }
   ],
   "source": [
    "# 5.Write a menu driven code to print table of given number for given range.\n",
    "print(\"_________________Menu Driven Multiplication Table __________________\")\n",
    "\n",
    "while True:\n",
    "\texit = input(\"Enter q for exit or press enter to continue\")\n",
    "\tif(exit == \"q\"):\n",
    "\t\tbreak\n",
    "\tnum = int(input(\"Enter a number\"))\n",
    "\trange = int(input(\"Enter a range\"))\n",
    "\tcount = 1\n",
    "\twhile(count<=range):\n",
    "\t\tprint(count,\" x \",num,\" = \" ,num*count)\n",
    "\t\tcount+=1"
   ]
  },
  {
   "cell_type": "code",
   "execution_count": null,
   "metadata": {},
   "outputs": [],
   "source": []
  }
 ],
 "metadata": {
  "kernelspec": {
   "display_name": "Python 3",
   "language": "python",
   "name": "python3"
  },
  "language_info": {
   "codemirror_mode": {
    "name": "ipython",
    "version": 3
   },
   "file_extension": ".py",
   "mimetype": "text/x-python",
   "name": "python",
   "nbconvert_exporter": "python",
   "pygments_lexer": "ipython3",
   "version": "3.8.5"
  }
 },
 "nbformat": 4,
 "nbformat_minor": 4
}
