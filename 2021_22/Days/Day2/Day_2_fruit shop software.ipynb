{
 "cells": [
  {
   "cell_type": "raw",
   "metadata": {},
   "source": [
    "Optional(Advanced)\n",
    "1.Create a small fruit shop software\n",
    "-Add fruit\n",
    "-Delete fruit by name\n",
    "-Search fruit by name and rate\n",
    "-Change fruit name and rate\n",
    "-Display\n",
    "Here store Fruit name and rate together in nested list\n",
    "[[Apple,10],[mango,20]]"
   ]
  },
  {
   "cell_type": "code",
   "execution_count": 1,
   "metadata": {},
   "outputs": [
    {
     "name": "stdout",
     "output_type": "stream",
     "text": [
      "1. Add fruit\n",
      "2. Delete fruit\n",
      "3. Search fruit\n",
      "4. Change fruit data\n",
      "5. Display\n",
      "6. Exit\n",
      "Enter the choice3\n",
      "Enter fruit nameapply\n",
      "Enter the rate50\n",
      "1. Add fruit\n",
      "2. Delete fruit\n",
      "3. Search fruit\n",
      "4. Change fruit data\n",
      "5. Display\n",
      "6. Exit\n",
      "Enter the choice6\n",
      "Exit\n"
     ]
    }
   ],
   "source": [
    "fruitsshop = [] \n",
    "while True : \n",
    "\tprint(\"1. Add fruit\")\n",
    "\tprint(\"2. Delete fruit\")\n",
    "\tprint(\"3. Search fruit\")\n",
    "\tprint(\"4. Change fruit data\")\n",
    "\tprint(\"5. Display\")\n",
    "\tprint(\"6. Exit\")\n",
    "\tch = int(input(\"Enter the choice\"))\n",
    "\tif ch ==1:\n",
    "\t\tname = input(\"Enter fruit name\")\n",
    "\t\trate = int(input(\"Enter the rate\"))\n",
    "\t\tfruitsshop.append([name,rate])\n",
    "\telif  ch == 2:\n",
    "\t\tname = input(\"Enter fruit name\")\n",
    "\t\tfor i in range(0,len(fruitsshop)):\n",
    "\t\t\tprint(fruitsshop[i][0])\n",
    "\t\t\tif(fruitsshop[i][0] == name):\n",
    "\t\t\t\tfruitsshop.pop(i)\n",
    "\t\t\t\tbreak\n",
    "\telif ch == 3:\n",
    "\t\tname = input(\"Enter fruit name\")\n",
    "\t\trate = int(input(\"Enter the rate\"))\n",
    "\t\tfor i in range(0,len(fruitsshop)):\n",
    "\t\t\tif(fruitsshop[i][0] == name and fruitsshop[i][1] == rate):\n",
    "\t\t\t\tprint(name ,\" is found\")\n",
    "\t\t\t\tbreak\n",
    "\telif ch == 4:\n",
    "\t\tname = input(\"Enter the fruit name\")\n",
    "\t\trate = int(input(\"Enter the rate\"))\n",
    "\t\tnew_name = input(\"Enter the fruit name to be change\")\n",
    "\t\tnew_rate = int(input(\"Enter the fruit rate to be change\"))\n",
    "\t\t\n",
    "\t\tfor i in range(0,len(fruitsshop)):\n",
    "\t\t\tif(fruitsshop[i][0] == name and fruitsshop[i][1] == rate):\n",
    "\t\t\t\tprint(\"Entered\")\n",
    "\t\t\t\tfruitsshop[i] = [new_name,new_rate]\n",
    "\t\t\t\tbreak\n",
    "\telif ch == 5:\n",
    "\t\tprint(fruitsshop)\n",
    "\t\t\n",
    "\telif ch == 6:\n",
    "\t\tprint(\"Exit\")\n",
    "\t\tbreak\n",
    "\telse:\n",
    "\t\tprint(\"Invalid choice\")"
   ]
  },
  {
   "cell_type": "code",
   "execution_count": null,
   "metadata": {},
   "outputs": [],
   "source": []
  }
 ],
 "metadata": {
  "kernelspec": {
   "display_name": "Python 3",
   "language": "python",
   "name": "python3"
  },
  "language_info": {
   "codemirror_mode": {
    "name": "ipython",
    "version": 3
   },
   "file_extension": ".py",
   "mimetype": "text/x-python",
   "name": "python",
   "nbconvert_exporter": "python",
   "pygments_lexer": "ipython3",
   "version": "3.8.5"
  }
 },
 "nbformat": 4,
 "nbformat_minor": 4
}
