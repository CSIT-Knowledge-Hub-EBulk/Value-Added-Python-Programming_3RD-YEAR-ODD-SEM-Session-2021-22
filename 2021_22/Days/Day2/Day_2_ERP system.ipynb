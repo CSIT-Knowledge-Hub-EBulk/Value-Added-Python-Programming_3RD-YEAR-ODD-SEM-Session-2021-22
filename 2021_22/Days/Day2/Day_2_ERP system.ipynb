{
 "cells": [
  {
   "cell_type": "raw",
   "metadata": {},
   "source": [
    "1.Start a mini project Console ERP system. Initialize git in this project.\n",
    "\t-Add Employee\n",
    "\t-Delete Employee\n",
    "\t-Search Employee\n",
    "\t-Change Employee Data\n",
    "\t-Display \n",
    "Notes for Q1:\n",
    "Output of display should be like\n",
    "1.Sid\n",
    "2.Bhargav\n",
    "3.Raja\n",
    "Check if user have entered or not(Check for None)"
   ]
  },
  {
   "cell_type": "code",
   "execution_count": null,
   "metadata": {},
   "outputs": [],
   "source": [
    "employee = [] \n",
    "while True : \n",
    "\tprint(\"1. Add Employee\")\n",
    "\tprint(\"2. Delete Employee\")\n",
    "\tprint(\"3. Search Employee\")\n",
    "\tprint(\"4. Change employee data\")\n",
    "\tprint(\"5. Display\")\n",
    "\tprint(\"6. Exit\")\n",
    "\tch = int(input(\"Enter the choice\"))\n",
    "\tif ch is None:\n",
    "\t\tprint(\"Enter valid choice \")\n",
    "\telif ch == 1:\n",
    "\t\tname = input(\"Enter the employee name\")\n",
    "\t\temployee.append(name)\n",
    "\telif ch == 2:\n",
    "\t\tname = input(\"Enter the employee name\")\n",
    "\t\temployee.remove(name)\n",
    "\telif ch == 3:\n",
    "\t\tname = input(\"Enter the name to be search\")\n",
    "\t\tif name in employee:\n",
    "\t\t\tprint(name,\" is in list\")\n",
    "\t\telse:\n",
    "\t\t\tprint(name,\" not in list\")\n",
    "\telif ch == 4:\n",
    "\t\tindex = employee.index(input(\"Enter the name to be change\"))\n",
    "\t\temployee[index] = input(\"Enter the new name\")\n",
    "\telif ch == 5:\n",
    "\t\tprint(employee)\n",
    "\t\tfor i in range(0,len(employee)):\n",
    "\t\t\tprint(i+1,\":\",employee[i])\n",
    "\telif ch == 6:\n",
    "\t\tbreak\n",
    "\telse:\n",
    "\t\tprint(\"Invalid choice\")"
   ]
  },
  {
   "cell_type": "code",
   "execution_count": null,
   "metadata": {},
   "outputs": [],
   "source": []
  }
 ],
 "metadata": {
  "kernelspec": {
   "display_name": "Python 3",
   "language": "python",
   "name": "python3"
  },
  "language_info": {
   "codemirror_mode": {
    "name": "ipython",
    "version": 3
   },
   "file_extension": ".py",
   "mimetype": "text/x-python",
   "name": "python",
   "nbconvert_exporter": "python",
   "pygments_lexer": "ipython3",
   "version": "3.8.5"
  }
 },
 "nbformat": 4,
 "nbformat_minor": 4
}
