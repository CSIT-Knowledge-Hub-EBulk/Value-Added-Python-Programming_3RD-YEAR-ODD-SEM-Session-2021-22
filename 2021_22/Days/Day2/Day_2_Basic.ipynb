{
 "cells": [
  {
   "cell_type": "raw",
   "metadata": {},
   "source": [
    "Basics(optional):\n",
    "1.Write a code to print the Table of given number(Input from user) using for loop.\n",
    "2.Write a code to print even number using for loop in given range(Take range from user)\n",
    "3.Write a code to print odd number using for loop in given range(Take input from user)\n",
    "4.Write a code to print fibonnaci series( 1,1,2,3,5,8,13,21...) till 100.\n",
    "5.Write a code to check the given string is palindrome or not. (abba)\n",
    "6.Write a code to check wether a given number is divisible by the given number(Take both number from user)"
   ]
  },
  {
   "cell_type": "code",
   "execution_count": 3,
   "metadata": {},
   "outputs": [
    {
     "name": "stdout",
     "output_type": "stream",
     "text": [
      "Enter the number5\n",
      "5  Multiplication Table\n",
      "5 * 1 = 5\n",
      "5 * 2 = 10\n",
      "5 * 3 = 15\n",
      "5 * 4 = 20\n",
      "5 * 5 = 25\n",
      "5 * 6 = 30\n",
      "5 * 7 = 35\n",
      "5 * 8 = 40\n",
      "5 * 9 = 45\n",
      "5 * 10 = 50\n"
     ]
    }
   ],
   "source": [
    "# 1.Write a code to print the Table of given number(Input from user) using for loop.\n",
    "num = int(input(\"Enter the number\"))\n",
    "print(num,\" Multiplication Table\")\n",
    "for i in range (1,11):\n",
    "\tprint(num,\"*\",i,\"=\",num*i)"
   ]
  },
  {
   "cell_type": "code",
   "execution_count": 4,
   "metadata": {},
   "outputs": [
    {
     "name": "stdout",
     "output_type": "stream",
     "text": [
      "____________Multiplication Table____________\n",
      "Enter a number5\n",
      "Enter the range4\n",
      "1  x  5  =  5\n",
      "2  x  5  =  10\n",
      "3  x  5  =  15\n",
      "4  x  5  =  20\n"
     ]
    }
   ],
   "source": [
    "#1.Write a code to print the Table of given number(Input from user) using for loop.\n",
    "print(\"____________Multiplication Table____________\")\n",
    "num = int(input(\"Enter a number\"))\n",
    "ran = int(input(\"Enter the range\"))\n",
    "for i in range(1,ran+1):\n",
    "\tprint(i,\" x \",num,\" = \",i*num)"
   ]
  },
  {
   "cell_type": "code",
   "execution_count": 6,
   "metadata": {},
   "outputs": [
    {
     "name": "stdout",
     "output_type": "stream",
     "text": [
      "Enter start of range1\n",
      "Enter end of range10\n",
      "2\n",
      "4\n",
      "6\n",
      "8\n",
      "10\n"
     ]
    }
   ],
   "source": [
    "# 2.Write a code to print even number using for loop in given range(Take range from user)\n",
    "start = int(input(\"Enter start of range\"))\n",
    "end = int(input(\"Enter end of range\"))\n",
    "if(start%2 == 0):\n",
    "    for i in range(start,end+1,2):\n",
    "        print(i)\n",
    "else:\n",
    "    for i in range(start+1,end+1,2):\n",
    "        print(i)"
   ]
  },
  {
   "cell_type": "code",
   "execution_count": 7,
   "metadata": {},
   "outputs": [
    {
     "name": "stdout",
     "output_type": "stream",
     "text": [
      "Enter start of range1\n",
      "Enter end of range10\n",
      "1\n",
      "3\n",
      "5\n",
      "7\n",
      "9\n"
     ]
    }
   ],
   "source": [
    "# 3.Write a code to print odd number using for loop in given range(Take input from user)\n",
    "start = int(input(\"Enter start of range\"))\n",
    "end = int(input(\"Enter end of range\"))\n",
    "if(start%2 == 0):\n",
    "    for i in range(start+1,end+1,2):\n",
    "        print(i)\n",
    "else:\n",
    "    for i in range(start,end+1,2):\n",
    "        print(i)"
   ]
  },
  {
   "cell_type": "code",
   "execution_count": 8,
   "metadata": {},
   "outputs": [
    {
     "name": "stdout",
     "output_type": "stream",
     "text": [
      "Enter the range10\n",
      "The fibonacci sequence is :\n",
      "0\n",
      "1\n",
      "1\n",
      "2\n",
      "3\n",
      "5\n",
      "8\n",
      "13\n",
      "21\n",
      "34\n"
     ]
    }
   ],
   "source": [
    "# 4.Write a code to print fibonnaci series( 1,1,2,3,5,8,13,21...) till 100.\n",
    "rang = int(input(\"Enter the range\"))\n",
    "first = 0\n",
    "second = 1\n",
    "print(\"The fibonacci sequence is :\")\n",
    "for i in range(rang):\n",
    "    print(first)\n",
    "    sum = first + second\n",
    "    first = second\n",
    "    second = sum"
   ]
  },
  {
   "cell_type": "code",
   "execution_count": 9,
   "metadata": {},
   "outputs": [
    {
     "name": "stdout",
     "output_type": "stream",
     "text": [
      "Enter s stringshweta\n",
      "it is not a palindrome\n"
     ]
    }
   ],
   "source": [
    "# 5.Write a code to check the given string is palindrome or not. (abba)\n",
    "string = input(\"Enter s string\")\n",
    "if (string == string[::-1]):\n",
    "    print(\"it is a palindrome\")\n",
    "else:\n",
    "    print(\"it is not a palindrome\")"
   ]
  },
  {
   "cell_type": "code",
   "execution_count": 11,
   "metadata": {},
   "outputs": [
    {
     "name": "stdout",
     "output_type": "stream",
     "text": [
      "Enter First number34\n",
      "Enter Second number3\n",
      "it is not divisible\n"
     ]
    }
   ],
   "source": [
    "# 6.Write a code to check wether a given number is divisible by the given number(Take both number from user)\n",
    "first = int(input(\"Enter First number\"))\n",
    "second = int(input(\"Enter Second number\"))\n",
    "if(first%second == 0):\n",
    "    print(\"it is divisible\")\n",
    "else:\n",
    "    print(\"it is not divisible\")"
   ]
  },
  {
   "cell_type": "code",
   "execution_count": null,
   "metadata": {},
   "outputs": [],
   "source": []
  }
 ],
 "metadata": {
  "kernelspec": {
   "display_name": "Python 3",
   "language": "python",
   "name": "python3"
  },
  "language_info": {
   "codemirror_mode": {
    "name": "ipython",
    "version": 3
   },
   "file_extension": ".py",
   "mimetype": "text/x-python",
   "name": "python",
   "nbconvert_exporter": "python",
   "pygments_lexer": "ipython3",
   "version": "3.8.5"
  }
 },
 "nbformat": 4,
 "nbformat_minor": 4
}
